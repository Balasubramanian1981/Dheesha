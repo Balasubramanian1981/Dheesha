{
 "cells": [
  {
   "cell_type": "markdown",
   "id": "5aad8086-5718-46ac-a612-1c95879dcad6",
   "metadata": {},
   "source": [
    "# Data Science Tools and Ecosystem"
   ]
  },
  {
   "cell_type": "markdown",
   "id": "920acf45-1033-414b-927c-80e42b9da7e8",
   "metadata": {},
   "source": [
    "In this notebook, Data Science Tools and Ecosystem are summarized."
   ]
  },
  {
   "cell_type": "markdown",
   "id": "500d5cef-b123-4912-9006-67570645d17f",
   "metadata": {},
   "source": [
    "Some of the popular languages that Data Scientists use are:"
   ]
  },
  {
   "cell_type": "markdown",
   "id": "8413ebba-e19f-45fb-82bb-825be6598c80",
   "metadata": {},
   "source": [
    "1. python\n",
    "2. SQL\n",
    "3. R\n",
    "4. Java\n",
    "5. Julio\n"
   ]
  },
  {
   "cell_type": "markdown",
   "id": "08987f3f-c10b-4f59-a677-b61468e7076f",
   "metadata": {},
   "source": [
    "Some of the commonly used libraries used by Data Scientists include:"
   ]
  },
  {
   "cell_type": "markdown",
   "id": "da502a9d-fd59-40ef-9a76-b8d0d8742eea",
   "metadata": {},
   "source": [
    "1. TensorFlow.\n",
    "2. NumPy.\n",
    "3. SciPy.\n",
    "4. Pandas.\n",
    "5. Matplotlib.\n",
    "6. Keras.\n",
    "7. SciKit-Learn.\n",
    "8. PyTorch.\n",
    "9. Scrapy."
   ]
  },
  {
   "cell_type": "markdown",
   "id": "2325c2a9-7fca-4d38-b37e-0a0cba493d46",
   "metadata": {},
   "source": [
    "Data Science Tools"
   ]
  },
  {
   "cell_type": "markdown",
   "id": "f280db29-6537-480d-9878-8c60d2896e53",
   "metadata": {},
   "source": [
    "|Data Science Tools|\n",
    "|------|\n",
    "|SAS. It is one of those data science tools which are specifically designed for statistical operation|"
   ]
  },
  {
   "cell_type": "markdown",
   "id": "64ad92d1-85ab-483a-a2cb-2af87695f4d2",
   "metadata": {},
   "source": [
    "### Below are a few examples of evaluating arithmetic expressions in Python"
   ]
  },
  {
   "cell_type": "code",
   "execution_count": 3,
   "id": "0d7c5bf0-8e91-44c5-9e05-67bd4fecdc1f",
   "metadata": {},
   "outputs": [
    {
     "data": {
      "text/plain": [
       "12"
      ]
     },
     "execution_count": 3,
     "metadata": {},
     "output_type": "execute_result"
    }
   ],
   "source": [
    "# Arithmetic operations\n",
    "code = compile(\"5 + 4\", \"<string>\", \"eval\")\n",
    "eval(code)"
   ]
  },
  {
   "cell_type": "code",
   "execution_count": 4,
   "id": "bd419884-ce79-42c8-abd7-eb4351fa5192",
   "metadata": {},
   "outputs": [
    {
     "data": {
      "text/plain": [
       "12"
      ]
     },
     "execution_count": 4,
     "metadata": {},
     "output_type": "execute_result"
    }
   ],
   "source": [
    "code1 = compile(\"(5 + 7) * 2\", \"<string>\", \"eval\")\n",
    "eval(code)"
   ]
  },
  {
   "cell_type": "code",
   "execution_count": 9,
   "id": "460eb9c5-15d9-4a2d-8329-5ee883a2b366",
   "metadata": {},
   "outputs": [
    {
     "name": "stdout",
     "output_type": "stream",
     "text": [
      "65449.84694978735\n"
     ]
    }
   ],
   "source": [
    "import math\n",
    "\n",
    "# Calculate the volume of a sphere with radius 25\n",
    "volume = (4/3) * math.pi * (25**3)\n",
    "print(volume)\n",
    "\n",
    "# The following code is redundant and generates the F401 error:\n",
    "# code2 = compile( 4 / 3 * math.pi * math.pow(25, 3) , '<string>', 'eval' )\n",
    "# eval(code2)\n",
    "\n"
   ]
  },
  {
   "cell_type": "markdown",
   "id": "0c47bd3c-cb42-40e9-b255-0e8055b6e9e8",
   "metadata": {},
   "source": [
    "This a simple arithmetic expression to mutiply then add integers"
   ]
  },
  {
   "cell_type": "code",
   "execution_count": 11,
   "id": "0c6258d1-a758-4733-b98d-0697327e3c79",
   "metadata": {},
   "outputs": [
    {
     "data": {
      "text/plain": [
       "17"
      ]
     },
     "execution_count": 11,
     "metadata": {},
     "output_type": "execute_result"
    }
   ],
   "source": [
    "(3*4)+5"
   ]
  },
  {
   "cell_type": "markdown",
   "id": "e8263875-e23d-4568-a14a-4bd0417c9464",
   "metadata": {},
   "source": [
    "This a simple arithmetic expression to mutiply then add integers"
   ]
  },
  {
   "cell_type": "code",
   "execution_count": 12,
   "id": "8a96e35c-e898-400a-a659-ca59f4b87724",
   "metadata": {},
   "outputs": [
    {
     "name": "stdout",
     "output_type": "stream",
     "text": [
      "0 days, 3.3333333333333335 hours, 0 mins. \n"
     ]
    }
   ],
   "source": [
    "days = 0\n",
    "hours = 0\n",
    "mins = 0\n",
    "\n",
    "time = 200\n",
    "#days = time / 1440\n",
    "leftover_minutes = time % 1440\n",
    "hours = leftover_minutes / 60\n",
    "#mins = time - (days*1440) - (hours*60)\n",
    "print(str(days) + \" days, \" + str(hours) + \" hours, \" + str(mins) +  \" mins. \")"
   ]
  },
  {
   "cell_type": "markdown",
   "id": "7adbb468-a2d7-4322-9bb8-81a001733b95",
   "metadata": {},
   "source": [
    "Insert a markdown cell to list Objectives."
   ]
  },
  {
   "cell_type": "markdown",
   "id": "9ee3d4c1-dc6b-4f38-83e4-94f65cfa412c",
   "metadata": {},
   "source": [
    "Switch to Markdown mode: In Jupyter Notebook, you can switch a cell to Markdown mode by selecting the cell and pressing M or by selecting \"Markdown\" from the dropdown menu at the top."
   ]
  },
  {
   "cell_type": "markdown",
   "id": "4c4b533b-9b7d-4c11-a25b-1626168e5f8a",
   "metadata": {},
   "source": [
    "#### Objectives\n",
    "\n",
    "- Understand the formula for the volume of a sphere.\n",
    "- Learn how to use the `math` module in Python.\n",
    "- Evaluate mathematical expressions using `eval()`.\n",
    "- Handle errors in Python code.\n"
   ]
  },
  {
   "cell_type": "markdown",
   "id": "fc883bb3-90d2-47a3-85cd-6be89bc9add7",
   "metadata": {},
   "source": [
    "# Author:\n",
    "## Germano Costa"
   ]
  },
  {
   "cell_type": "code",
   "execution_count": null,
   "id": "fbeb1fcd-8bc0-40c1-99bf-7239ce848d70",
   "metadata": {},
   "outputs": [],
   "source": []
  }
 ],
 "metadata": {
  "kernelspec": {
   "display_name": "Python 3 (ipykernel)",
   "language": "python",
   "name": "python3"
  },
  "language_info": {
   "codemirror_mode": {
    "name": "ipython",
    "version": 3
   },
   "file_extension": ".py",
   "mimetype": "text/x-python",
   "name": "python",
   "nbconvert_exporter": "python",
   "pygments_lexer": "ipython3",
   "version": "3.12.8"
  }
 },
 "nbformat": 4,
 "nbformat_minor": 5
}
